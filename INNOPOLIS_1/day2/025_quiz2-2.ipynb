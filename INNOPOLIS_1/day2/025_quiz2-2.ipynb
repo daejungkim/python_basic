{
 "cells": [
  {
   "cell_type": "markdown",
   "metadata": {},
   "source": [
    "### 문제 1\n",
    "MyPhone이라는 이름으로 본인의 핸드폰에 관한 클래스를 만들어보자.  \n",
    "\n",
    "- MyPhone의 속성으로는 어떠한 것이든 좋다.\n",
    "- set_name과, set_number라는 인스턴스 메소드를 포함하여야 한다.  \n",
    "    - set_name은 사용자의 이름을 받아서 user라는 변수에 저장한 후 이를 출력하는 함수이다.  \n",
    "    - set_number는 번호를 입력으로 받아서 number라는 변수에 저장하는 함수이다."
   ]
  },
  {
   "cell_type": "code",
   "execution_count": 1,
   "metadata": {},
   "outputs": [],
   "source": [
    "# 나머지 부분을 채워주세요\n",
    "class MyPhone():\n",
    "    "
   ]
  },
  {
   "cell_type": "code",
   "execution_count": null,
   "metadata": {},
   "outputs": [],
   "source": [
    "# 사용자의 이름을 set_name을 통해 저장해주세요"
   ]
  },
  {
   "cell_type": "code",
   "execution_count": null,
   "metadata": {},
   "outputs": [],
   "source": [
    "# 번호를 set_number을 통해 저장해주세요"
   ]
  }
 ],
 "metadata": {
  "kernelspec": {
   "display_name": "Python 3",
   "language": "python",
   "name": "python3"
  },
  "language_info": {
   "codemirror_mode": {
    "name": "ipython",
    "version": 3
   },
   "file_extension": ".py",
   "mimetype": "text/x-python",
   "name": "python",
   "nbconvert_exporter": "python",
   "pygments_lexer": "ipython3",
   "version": "3.7.3"
  }
 },
 "nbformat": 4,
 "nbformat_minor": 4
}
