{
 "cells": [
  {
   "cell_type": "markdown",
   "metadata": {},
   "source": [
    "### 문제 1\n",
    "MyPhone이라는 이름으로 본인의 핸드폰에 관한 클래스를 만들어보자.  \n",
    "\n",
    "- MyPhone의 속성으로는 어떠한 것이든 좋다.\n",
    "- set_name과, set_number라는 인스턴스 메소드를 포함하여야 한다.  \n",
    "    - set_name은 사용자의 이름을 받아서 user라는 변수에 저장한 후 이를 출력하는 함수이다.  \n",
    "    - set_number는 번호를 입력으로 받아서 number라는 변수에 저장하는 함수이다."
   ]
  },
  {
   "cell_type": "code",
   "execution_count": 1,
   "metadata": {},
   "outputs": [],
   "source": [
    "class MyPhone():\n",
    "    def __init__(self, model, color) :\n",
    "        self.model = model\n",
    "        self.color = color\n",
    "    \n",
    "    def set_name(self, name):\n",
    "        self.user = name\n",
    "        print(\"사용자의 이름은 : %s\" %self.user)\n",
    "    \n",
    "    def set_number(self, number):\n",
    "        self.number = number"
   ]
  },
  {
   "cell_type": "code",
   "execution_count": 2,
   "metadata": {},
   "outputs": [],
   "source": [
    "phone = MyPhone('갤럭시S8', 'black')"
   ]
  },
  {
   "cell_type": "code",
   "execution_count": 3,
   "metadata": {},
   "outputs": [
    {
     "name": "stdout",
     "output_type": "stream",
     "text": [
      "갤럭시S8\n",
      "black\n"
     ]
    }
   ],
   "source": [
    "print(phone.model)\n",
    "print(phone.color)"
   ]
  },
  {
   "cell_type": "code",
   "execution_count": 4,
   "metadata": {},
   "outputs": [
    {
     "name": "stdout",
     "output_type": "stream",
     "text": [
      "사용자의 이름은 : MJ\n"
     ]
    }
   ],
   "source": [
    "phone.set_name('MJ')"
   ]
  },
  {
   "cell_type": "code",
   "execution_count": 5,
   "metadata": {},
   "outputs": [],
   "source": [
    "phone.set_number('010-xxxx-xxxx')"
   ]
  },
  {
   "cell_type": "code",
   "execution_count": 6,
   "metadata": {},
   "outputs": [
    {
     "name": "stdout",
     "output_type": "stream",
     "text": [
      "010-xxxx-xxxx\n"
     ]
    }
   ],
   "source": [
    "print(phone.number)"
   ]
  },
  {
   "cell_type": "code",
   "execution_count": null,
   "metadata": {},
   "outputs": [],
   "source": []
  }
 ],
 "metadata": {
  "kernelspec": {
   "display_name": "Python 3",
   "language": "python",
   "name": "python3"
  },
  "language_info": {
   "codemirror_mode": {
    "name": "ipython",
    "version": 3
   },
   "file_extension": ".py",
   "mimetype": "text/x-python",
   "name": "python",
   "nbconvert_exporter": "python",
   "pygments_lexer": "ipython3",
   "version": "3.7.3"
  }
 },
 "nbformat": 4,
 "nbformat_minor": 4
}
