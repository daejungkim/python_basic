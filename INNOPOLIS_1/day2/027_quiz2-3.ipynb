{
 "cells": [
  {
   "cell_type": "markdown",
   "metadata": {},
   "source": [
    "### 235"
   ]
  },
  {
   "cell_type": "code",
   "execution_count": 1,
   "metadata": {},
   "outputs": [],
   "source": []
  },
  {
   "cell_type": "markdown",
   "metadata": {},
   "source": [
    "### 문제 1 Human 이라는 클래스를 만들어보자. \n",
    "- Human 클래스는 아래와 같은 특징이 있다.  \n",
    "- Human 클래스는 기본적으로 birth_date, sex, nation을 인스턴스 변수로 가지고 있다. \n",
    "- birth_data는 생년월일을 뜻하며 yymmdd 6자리로 되어있는 숫자이다.\n",
    "- sex는 성별을 의미하며 남자는 M, 여자는 F로 표시한다.\n",
    "- nation은 태어난 국가를 의미하며 한국어로 되어있다.\n",
    "- give_name은 인스턴스 메소드로 이름을 매개변수로 받아서 name이라는 인스턴스 변수로 저장하고 화면에 이름을 출력하는 역할을 하는 함수이다.\n",
    "- can_sing이라는 함수는 True/False값을 input으로 받으며, 참이면 “Sing a song”을 화면에 출력하는 함수이다."
   ]
  },
  {
   "cell_type": "code",
   "execution_count": 6,
   "metadata": {},
   "outputs": [],
   "source": []
  },
  {
   "cell_type": "code",
   "execution_count": 7,
   "metadata": {},
   "outputs": [],
   "source": [
    "MJ = Human(200802, 'F', '한국')"
   ]
  },
  {
   "cell_type": "code",
   "execution_count": 8,
   "metadata": {},
   "outputs": [
    {
     "name": "stdout",
     "output_type": "stream",
     "text": [
      "이름은 민지 입니다.\n"
     ]
    }
   ],
   "source": [
    "MJ.give_name(\"민지\")"
   ]
  },
  {
   "cell_type": "code",
   "execution_count": 9,
   "metadata": {},
   "outputs": [
    {
     "name": "stdout",
     "output_type": "stream",
     "text": [
      "Sing a Song\n"
     ]
    }
   ],
   "source": [
    "MJ.can_sing(True)"
   ]
  },
  {
   "cell_type": "markdown",
   "metadata": {},
   "source": [
    "### 문제 2 Human 이라는 클래스를 상속하는 Child라는 클래스를 만들어보자. \n",
    "- Child의 클래스에는 아래와 같은 변수와 함수들이 추가된다.\n",
    "- 눈동자 색깔을 나타내는 변수 eye를 클래스 선언시 사용할 수 있게 추가해보자.\n",
    "- Child의 클래스는 노래하는 능력이 없다. 따라서 can_sing이라는 메소드가 호출되면 무조건 “Can’t Sing”이고 출력하도록 바꿔보자.\n",
    "- Child는 노래 대신 춤을 출 수 있다. can_dance라는 메소드가 호출되면 “Dance Time!”을 출력하도록 메소드를 작성해보자."
   ]
  },
  {
   "cell_type": "markdown",
   "metadata": {},
   "source": [
    "### 문제 3 \n",
    "입력으로 들어오는 모든 수의 평균 값을 계산해 주는 함수를 작성해 보자. (단 입력으로 들어오는 수의 개수는 정해져 있지 않으나, 최소한 1개 이상이다.)"
   ]
  },
  {
   "cell_type": "code",
   "execution_count": 11,
   "metadata": {},
   "outputs": [],
   "source": []
  },
  {
   "cell_type": "code",
   "execution_count": 12,
   "metadata": {},
   "outputs": [
    {
     "data": {
      "text/plain": [
       "3.5"
      ]
     },
     "execution_count": 12,
     "metadata": {},
     "output_type": "execute_result"
    }
   ],
   "source": [
    "avg(1,2,3,4,5,6)"
   ]
  },
  {
   "cell_type": "markdown",
   "metadata": {},
   "source": [
    "### 문제 4 \n",
    "다음 중 출력 결과가 다른 것 한 개를 골라 보자."
   ]
  },
  {
   "cell_type": "markdown",
   "metadata": {},
   "source": [
    "+ print(\"you\" \"need\" \"python\")\n",
    "+ print(\"you\"+\"need\"+\"python\")\n",
    "+ print(\"you\", \"need\", \"python\")\n",
    "+ print(\"\".join([\"you\", \"need\", \"python\"]))"
   ]
  },
  {
   "cell_type": "code",
   "execution_count": null,
   "metadata": {},
   "outputs": [],
   "source": []
  }
 ],
 "metadata": {
  "kernelspec": {
   "display_name": "Python 3",
   "language": "python",
   "name": "python3"
  },
  "language_info": {
   "codemirror_mode": {
    "name": "ipython",
    "version": 3
   },
   "file_extension": ".py",
   "mimetype": "text/x-python",
   "name": "python",
   "nbconvert_exporter": "python",
   "pygments_lexer": "ipython3",
   "version": "3.7.3"
  }
 },
 "nbformat": 4,
 "nbformat_minor": 2
}
