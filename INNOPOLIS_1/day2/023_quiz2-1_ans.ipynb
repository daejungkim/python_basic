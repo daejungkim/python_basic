{
 "cells": [
  {
   "cell_type": "markdown",
   "metadata": {},
   "source": [
    "### 문제 1\n",
    "‘students.txt’ 파일을 읽어서 딕셔너리로 학생들의 정보를 저장하라.  \n",
    "해당 파일은 이름, 국어점수, 영어점수, 수학점수 순으로 되어있으며, 각 컬럼의 구분자는 tab(\\t)으로 이루어져있다.  \n",
    "이름을 key로 하고, 국어점수, 영어점수, 수학점수를 순서대로 담은 리스트를 value로 하는 딕셔너리로 저장하라."
   ]
  },
  {
   "cell_type": "code",
   "execution_count": 1,
   "metadata": {},
   "outputs": [],
   "source": [
    "students = {}"
   ]
  },
  {
   "cell_type": "code",
   "execution_count": 2,
   "metadata": {},
   "outputs": [],
   "source": [
    "with open('./sample_data/students.txt', 'r') as f :\n",
    "    data = f.read()\n",
    "    lines = data.split('\\n')\n",
    "    for stu in lines :\n",
    "        s = stu.split('\\t')\n",
    "        students[s[0]] = s[1:] "
   ]
  },
  {
   "cell_type": "code",
   "execution_count": 3,
   "metadata": {},
   "outputs": [
    {
     "data": {
      "text/plain": [
       "{'홍길동': ['50', '70', '65'],\n",
       " '홍계월': ['80', '90', '100'],\n",
       " '뽀로로': ['83', '92', '86'],\n",
       " '펭수': ['95', '100', '97'],\n",
       " '뚝딱이': ['77', '72', '87']}"
      ]
     },
     "execution_count": 3,
     "metadata": {},
     "output_type": "execute_result"
    }
   ],
   "source": [
    "students"
   ]
  },
  {
   "cell_type": "code",
   "execution_count": 4,
   "metadata": {},
   "outputs": [],
   "source": [
    "students2 = {}"
   ]
  },
  {
   "cell_type": "code",
   "execution_count": 6,
   "metadata": {},
   "outputs": [
    {
     "name": "stdout",
     "output_type": "stream",
     "text": [
      "{'홍길동': ['50', '70', '65'], '홍계월': ['80', '90', '100'], '뽀로로': ['83', '92', '86'], '펭수': ['95', '100', '97'], '뚝딱이': ['77', '72', '87']}\n"
     ]
    }
   ],
   "source": [
    "with open('./sample_data/students.txt', 'r') as f :\n",
    "    data = f.readlines()\n",
    "    for d in data :\n",
    "        line = d.split('\\n')[0]\n",
    "        line = line.split('\\t')\n",
    "        students2[line[0]] = line[1:]\n",
    "\n",
    "print(students2)"
   ]
  },
  {
   "cell_type": "markdown",
   "metadata": {},
   "source": [
    "### 문제 2\n",
    "저장한 딕셔너리를 토대로 학생들의 평균을 구하라.  \n",
    "전체 학생의 국어, 영어, 수학 점수의 평균을 구해서 각각 kor, eng, math라는 변수에 저장하고, 소수점 첫째자리까지 출력하라."
   ]
  },
  {
   "cell_type": "code",
   "execution_count": 7,
   "metadata": {},
   "outputs": [],
   "source": [
    "kor = 0\n",
    "eng = 0\n",
    "math = 0"
   ]
  },
  {
   "cell_type": "code",
   "execution_count": 8,
   "metadata": {},
   "outputs": [],
   "source": [
    "for v in students.values():\n",
    "    kor += int(v[0])\n",
    "    eng += int(v[1])\n",
    "    math += int(v[2])\n",
    "\n",
    "kor /= len(students)\n",
    "eng /= len(students)\n",
    "math /= len(students)"
   ]
  },
  {
   "cell_type": "code",
   "execution_count": 9,
   "metadata": {},
   "outputs": [
    {
     "name": "stdout",
     "output_type": "stream",
     "text": [
      "학생들의 평균은 아래와 같습니다.\n",
      "국어 : 77.0\n",
      "영어 : 84.8\n",
      "수학 : 87.0\n"
     ]
    }
   ],
   "source": [
    "print('학생들의 평균은 아래와 같습니다.')\n",
    "print('국어 : %0.1f' %kor)\n",
    "print('영어 : %0.1f' %eng)\n",
    "print('수학 : %0.1f' %math)"
   ]
  },
  {
   "cell_type": "markdown",
   "metadata": {},
   "source": [
    "### 문제 3\n",
    "\n",
    "학생들의 평균을 구하는 함수를 작성하라.  \n",
    "이름을 넣으면 국어, 영어, 수학 3과목의 평균을 계산하여 반환하는 함수를 작성하라."
   ]
  },
  {
   "cell_type": "code",
   "execution_count": 10,
   "metadata": {},
   "outputs": [],
   "source": [
    "def cal_average(name) :\n",
    "    scores = students[name]\n",
    "    avg = 0\n",
    "    for s in scores :\n",
    "        avg += int(s)\n",
    "    return avg / 3"
   ]
  },
  {
   "cell_type": "code",
   "execution_count": 11,
   "metadata": {},
   "outputs": [
    {
     "data": {
      "text/plain": [
       "97.33333333333333"
      ]
     },
     "execution_count": 11,
     "metadata": {},
     "output_type": "execute_result"
    }
   ],
   "source": [
    "cal_average('펭수')"
   ]
  },
  {
   "cell_type": "code",
   "execution_count": null,
   "metadata": {},
   "outputs": [],
   "source": []
  }
 ],
 "metadata": {
  "kernelspec": {
   "display_name": "Python 3",
   "language": "python",
   "name": "python3"
  },
  "language_info": {
   "codemirror_mode": {
    "name": "ipython",
    "version": 3
   },
   "file_extension": ".py",
   "mimetype": "text/x-python",
   "name": "python",
   "nbconvert_exporter": "python",
   "pygments_lexer": "ipython3",
   "version": "3.7.3"
  }
 },
 "nbformat": 4,
 "nbformat_minor": 4
}
