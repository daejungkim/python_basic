{
 "cells": [
  {
   "cell_type": "markdown",
   "metadata": {},
   "source": [
    "# 1. 파일 쓰기\n",
    "### 1-0. 파일?"
   ]
  },
  {
   "cell_type": "code",
   "execution_count": null,
   "metadata": {},
   "outputs": [],
   "source": [
    "# 현재 경로 파악하기\n",
    "pwd"
   ]
  },
  {
   "cell_type": "markdown",
   "metadata": {},
   "source": [
    "file name : new.txt     \n",
    "상대 경로 : ./sample_data/new.txt  \n",
    "절대 경로 :   "
   ]
  },
  {
   "cell_type": "markdown",
   "metadata": {},
   "source": [
    "### 1-1. 파일 쓰기"
   ]
  },
  {
   "cell_type": "code",
   "execution_count": 64,
   "metadata": {},
   "outputs": [],
   "source": [
    "new_file = open('./sample_data/new.txt', 'w')"
   ]
  },
  {
   "cell_type": "code",
   "execution_count": 65,
   "metadata": {},
   "outputs": [
    {
     "name": "stdout",
     "output_type": "stream",
     "text": [
      "<_io.TextIOWrapper name='./sample_data/new.txt' mode='w' encoding='UTF-8'>\n"
     ]
    }
   ],
   "source": [
    "print(new_file)"
   ]
  },
  {
   "cell_type": "code",
   "execution_count": 66,
   "metadata": {},
   "outputs": [],
   "source": [
    "data = '새로운 내용을 쓰고 싶다면,\\n이렇게 작성하면 됩니다.'"
   ]
  },
  {
   "cell_type": "code",
   "execution_count": 67,
   "metadata": {},
   "outputs": [
    {
     "data": {
      "text/plain": [
       "29"
      ]
     },
     "execution_count": 67,
     "metadata": {},
     "output_type": "execute_result"
    }
   ],
   "source": [
    "new_file.write(data)"
   ]
  },
  {
   "cell_type": "code",
   "execution_count": 68,
   "metadata": {},
   "outputs": [],
   "source": [
    "new_file.close()"
   ]
  },
  {
   "cell_type": "markdown",
   "metadata": {},
   "source": [
    "### 1-2. with문을 활용하여 파일 쓰기"
   ]
  },
  {
   "cell_type": "code",
   "execution_count": 74,
   "metadata": {},
   "outputs": [],
   "source": [
    "with open('./sample_data/new2.txt', 'w') as f :\n",
    "    data = '이렇게도 작성이 가능합니다. close를 따로 안해도 되요.'\n",
    "    f.write(data)"
   ]
  },
  {
   "cell_type": "markdown",
   "metadata": {},
   "source": [
    "# 2. 파일 읽기"
   ]
  },
  {
   "cell_type": "code",
   "execution_count": 84,
   "metadata": {},
   "outputs": [
    {
     "name": "stdout",
     "output_type": "stream",
     "text": [
      "새로운 내용을 쓰고 싶다면,\n",
      "이렇게 작성하면 됩니다.\n",
      "<class 'str'>\n"
     ]
    }
   ],
   "source": [
    "with open('./sample_data/new.txt', 'r') as f:\n",
    "    lines = f.read()\n",
    "    print(lines)\n",
    "    print(type(lines))"
   ]
  },
  {
   "cell_type": "code",
   "execution_count": 85,
   "metadata": {},
   "outputs": [
    {
     "name": "stdout",
     "output_type": "stream",
     "text": [
      "새로운 내용을 쓰고 싶다면,\n",
      "\n",
      "<class 'str'>\n"
     ]
    }
   ],
   "source": [
    "with open('./sample_data/new.txt', 'r') as f:\n",
    "    line = f.readline()\n",
    "    print(line)\n",
    "    print(type(lines))"
   ]
  },
  {
   "cell_type": "code",
   "execution_count": 88,
   "metadata": {},
   "outputs": [
    {
     "name": "stdout",
     "output_type": "stream",
     "text": [
      "새로운 내용을 쓰고 싶다면,\n",
      "\n",
      "이렇게 작성하면 됩니다.\n"
     ]
    }
   ],
   "source": [
    "with open('./sample_data/new.txt', 'r') as f:\n",
    "    while True :\n",
    "        line = f.readline()\n",
    "        if not line : break\n",
    "        print(line)"
   ]
  },
  {
   "cell_type": "code",
   "execution_count": 87,
   "metadata": {},
   "outputs": [
    {
     "name": "stdout",
     "output_type": "stream",
     "text": [
      "['새로운 내용을 쓰고 싶다면,\\n', '이렇게 작성하면 됩니다.']\n",
      "<class 'list'>\n"
     ]
    }
   ],
   "source": [
    "with open('./sample_data/new.txt', 'r') as f:\n",
    "    lines = f.readlines()\n",
    "    print(lines)\n",
    "    print(type(lines))"
   ]
  },
  {
   "cell_type": "code",
   "execution_count": null,
   "metadata": {},
   "outputs": [],
   "source": []
  }
 ],
 "metadata": {
  "kernelspec": {
   "display_name": "Python 3",
   "language": "python",
   "name": "python3"
  },
  "language_info": {
   "codemirror_mode": {
    "name": "ipython",
    "version": 3
   },
   "file_extension": ".py",
   "mimetype": "text/x-python",
   "name": "python",
   "nbconvert_exporter": "python",
   "pygments_lexer": "ipython3",
   "version": "3.7.3"
  }
 },
 "nbformat": 4,
 "nbformat_minor": 4
}
