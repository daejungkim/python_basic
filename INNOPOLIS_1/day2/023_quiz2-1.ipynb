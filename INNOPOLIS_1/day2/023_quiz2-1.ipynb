{
 "cells": [
  {
   "cell_type": "markdown",
   "metadata": {},
   "source": [
    "### 문제 1\n",
    "‘students.txt’ 파일을 읽어서 딕셔너리로 학생들의 정보를 저장하라.  \n",
    "해당 파일은 이름, 국어점수, 영어점수, 수학점수 순으로 되어있으며, 각 컬럼의 구분자는 tab(\\t)으로 이루어져있다.  \n",
    "이름을 key로 하고, 국어점수, 영어점수, 수학점수를 순서대로 담은 리스트를 value로 하는 딕셔너리로 저장하라."
   ]
  },
  {
   "cell_type": "code",
   "execution_count": 3,
   "metadata": {},
   "outputs": [],
   "source": [
    "students = {}"
   ]
  },
  {
   "cell_type": "code",
   "execution_count": 4,
   "metadata": {},
   "outputs": [],
   "source": [
    "# 정답을 써주세요"
   ]
  },
  {
   "cell_type": "code",
   "execution_count": null,
   "metadata": {},
   "outputs": [],
   "source": [
    "# 주석을 제거하고 출력해보세요\n",
    "# students"
   ]
  },
  {
   "cell_type": "markdown",
   "metadata": {},
   "source": [
    "### 문제 2\n",
    "저장한 딕셔너리를 토대로 학생들의 평균을 구하라.  \n",
    "전체 학생의 국어, 영어, 수학 점수의 평균을 구해서 각각 kor, eng, math라는 변수에 저장하고, 소수점 첫째자리까지 출력하라."
   ]
  },
  {
   "cell_type": "code",
   "execution_count": 6,
   "metadata": {},
   "outputs": [],
   "source": [
    "kor = 0\n",
    "eng = 0\n",
    "math = 0"
   ]
  },
  {
   "cell_type": "code",
   "execution_count": 7,
   "metadata": {},
   "outputs": [],
   "source": [
    "# 정답을 써주세요"
   ]
  },
  {
   "cell_type": "code",
   "execution_count": null,
   "metadata": {},
   "outputs": [],
   "source": [
    "print('학생들의 평균은 아래와 같습니다.')\n",
    "print('국어 : %0.1f' %kor)\n",
    "print('영어 : %0.1f' %eng)\n",
    "print('수학 : %0.1f' %math)"
   ]
  },
  {
   "cell_type": "markdown",
   "metadata": {},
   "source": [
    "### 문제 3\n",
    "\n",
    "학생들의 평균을 구하는 함수를 작성하라.  \n",
    "이름을 넣으면 국어, 영어, 수학 3과목의 평균을 계산하여 반환하는 함수를 작성하라.  "
   ]
  },
  {
   "cell_type": "code",
   "execution_count": 9,
   "metadata": {},
   "outputs": [],
   "source": [
    "# 정답을 써주세요"
   ]
  },
  {
   "cell_type": "code",
   "execution_count": null,
   "metadata": {},
   "outputs": [],
   "source": [
    "# 만드신 함수로 펭수의 평균을 출력해보세요"
   ]
  }
 ],
 "metadata": {
  "kernelspec": {
   "display_name": "Python 3",
   "language": "python",
   "name": "python3"
  },
  "language_info": {
   "codemirror_mode": {
    "name": "ipython",
    "version": 3
   },
   "file_extension": ".py",
   "mimetype": "text/x-python",
   "name": "python",
   "nbconvert_exporter": "python",
   "pygments_lexer": "ipython3",
   "version": "3.7.3"
  }
 },
 "nbformat": 4,
 "nbformat_minor": 4
}
