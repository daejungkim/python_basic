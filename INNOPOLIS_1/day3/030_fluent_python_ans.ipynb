{
 "cells": [
  {
   "cell_type": "markdown",
   "metadata": {},
   "source": [
    "### 1. enumerate"
   ]
  },
  {
   "cell_type": "markdown",
   "metadata": {},
   "source": [
    "여기는 동네 유명한 빵집이다. 사람들에게 먼저 온 순서대로 번호표를 나누어주려고 한다. 번호표를 나누어주는 함수를 작성해보자.  \n",
    "함수는 사람이름으로 되어 있는 리스트를 받아서 \"대기번호 x번 : 사람이름\" 를 화면에 출력하고 (번호표, 사람이름)을 원소로하는 이루어진 리스트를 반환한다. \n",
    "- input : 리스트\n",
    "- output : 리스트"
   ]
  },
  {
   "cell_type": "code",
   "execution_count": 1,
   "metadata": {},
   "outputs": [],
   "source": [
    "people = ['펭수', '뽀로로', '뚝딱이', '텔레토비']"
   ]
  },
  {
   "cell_type": "code",
   "execution_count": 2,
   "metadata": {},
   "outputs": [],
   "source": [
    "def func1(line) :\n",
    "    new_lines = []\n",
    "    i = 1\n",
    "    for x in line :\n",
    "        print(\"대기번호 %d번 : %s\" %(i, x))\n",
    "        new_lines.append((i, x))\n",
    "        i += 1\n",
    "    return new_lines"
   ]
  },
  {
   "cell_type": "code",
   "execution_count": 3,
   "metadata": {},
   "outputs": [
    {
     "name": "stdout",
     "output_type": "stream",
     "text": [
      "대기번호 1번 : 펭수\n",
      "대기번호 2번 : 뽀로로\n",
      "대기번호 3번 : 뚝딱이\n",
      "대기번호 4번 : 텔레토비\n"
     ]
    }
   ],
   "source": [
    "lines = func1(people)"
   ]
  },
  {
   "cell_type": "code",
   "execution_count": 4,
   "metadata": {},
   "outputs": [
    {
     "data": {
      "text/plain": [
       "[(1, '펭수'), (2, '뽀로로'), (3, '뚝딱이'), (4, '텔레토비')]"
      ]
     },
     "execution_count": 4,
     "metadata": {},
     "output_type": "execute_result"
    }
   ],
   "source": [
    "lines"
   ]
  },
  {
   "cell_type": "markdown",
   "metadata": {},
   "source": [
    "#### enumerate를 이용하면 좀 더 쉽게 구현 할 수 있다."
   ]
  },
  {
   "cell_type": "code",
   "execution_count": 5,
   "metadata": {},
   "outputs": [
    {
     "name": "stdout",
     "output_type": "stream",
     "text": [
      "(0, 'a')\n",
      "(1, 'b')\n",
      "(2, 'c')\n"
     ]
    }
   ],
   "source": [
    "lst = ['a','b','c']\n",
    "for x in enumerate(lst) :\n",
    "    print(x)"
   ]
  },
  {
   "cell_type": "code",
   "execution_count": 6,
   "metadata": {},
   "outputs": [
    {
     "name": "stdout",
     "output_type": "stream",
     "text": [
      "(0, 0)\n",
      "(1, 1)\n",
      "(2, 2)\n"
     ]
    }
   ],
   "source": [
    "dic = {0 : 'p', 1 : 'b' , 2 : 'd'}\n",
    "\n",
    "for x in enumerate(dic):\n",
    "    print(x)"
   ]
  },
  {
   "cell_type": "code",
   "execution_count": 7,
   "metadata": {},
   "outputs": [
    {
     "name": "stdout",
     "output_type": "stream",
     "text": [
      "(0, 'a')\n",
      "(1, 'b')\n",
      "(2, 'c')\n",
      "(3, 'd')\n"
     ]
    }
   ],
   "source": [
    "st = 'abcd'\n",
    "\n",
    "for x in enumerate(st) :\n",
    "    print(x)"
   ]
  },
  {
   "cell_type": "code",
   "execution_count": 8,
   "metadata": {},
   "outputs": [
    {
     "name": "stdout",
     "output_type": "stream",
     "text": [
      "(0, 'a')\n",
      "(1, 'c')\n",
      "(2, 'b')\n"
     ]
    }
   ],
   "source": [
    "se = {'a','b','c'}\n",
    "for x in enumerate(se) :\n",
    "    print(x)"
   ]
  },
  {
   "cell_type": "markdown",
   "metadata": {},
   "source": [
    "#### 적용해보기"
   ]
  },
  {
   "cell_type": "code",
   "execution_count": 9,
   "metadata": {},
   "outputs": [],
   "source": [
    "def func1_with_enu(line) :\n",
    "    new_lines = []\n",
    "    for idx, val in enumerate(line):\n",
    "        print(\"대기번호 %d번 : %s\" %(idx+1, val))\n",
    "        new_lines.append((idx+1,val))\n",
    "    return new_lines"
   ]
  },
  {
   "cell_type": "code",
   "execution_count": 10,
   "metadata": {},
   "outputs": [],
   "source": [
    "def func2_with_enu(line) :\n",
    "    new_lines = []\n",
    "    for x in enumerate(line):\n",
    "        idx = x[0]\n",
    "        val = x[1]\n",
    "        print(\"대기번호 %d번 : %s\" %(idx+1, val))\n",
    "        new_lines.append((idx+1,val))\n",
    "    return new_lines"
   ]
  },
  {
   "cell_type": "code",
   "execution_count": 11,
   "metadata": {},
   "outputs": [
    {
     "name": "stdout",
     "output_type": "stream",
     "text": [
      "대기번호 1번 : 펭수\n",
      "대기번호 2번 : 뽀로로\n",
      "대기번호 3번 : 뚝딱이\n",
      "대기번호 4번 : 텔레토비\n"
     ]
    }
   ],
   "source": [
    "lines = func1_with_enu(people)"
   ]
  },
  {
   "cell_type": "code",
   "execution_count": 12,
   "metadata": {},
   "outputs": [
    {
     "name": "stdout",
     "output_type": "stream",
     "text": [
      "대기번호 1번 : 펭수\n",
      "대기번호 2번 : 뽀로로\n",
      "대기번호 3번 : 뚝딱이\n",
      "대기번호 4번 : 텔레토비\n"
     ]
    }
   ],
   "source": [
    "lines2 = func2_with_enu(people)"
   ]
  },
  {
   "cell_type": "markdown",
   "metadata": {},
   "source": [
    "### 2. zip"
   ]
  },
  {
   "cell_type": "code",
   "execution_count": 13,
   "metadata": {},
   "outputs": [
    {
     "name": "stdout",
     "output_type": "stream",
     "text": [
      "(1, 'one')\n",
      "(2, 'two')\n",
      "(3, 'three')\n",
      "(4, 'four')\n"
     ]
    }
   ],
   "source": [
    "str_list = ['one', 'two', 'three', 'four']\n",
    "num_list = [1, 2, 3, 4]\n",
    "\n",
    "for i in zip(num_list, str_list) :\n",
    "    print(i)"
   ]
  },
  {
   "cell_type": "code",
   "execution_count": 14,
   "metadata": {},
   "outputs": [
    {
     "data": {
      "text/plain": [
       "[('1', 'a', 'ㄱ'), ('2', 'b', 'ㄴ'), ('3', 'c', 'ㄷ')]"
      ]
     },
     "execution_count": 14,
     "metadata": {},
     "output_type": "execute_result"
    }
   ],
   "source": [
    "s1 = '123'\n",
    "s2 = 'abc'\n",
    "s3 = 'ㄱㄴㄷ'\n",
    "list(zip(s1,s2,s3))"
   ]
  },
  {
   "cell_type": "markdown",
   "metadata": {},
   "source": [
    "### 3. lambda"
   ]
  },
  {
   "cell_type": "code",
   "execution_count": 15,
   "metadata": {},
   "outputs": [],
   "source": [
    "def plus_two(num) :\n",
    "    return num + 2"
   ]
  },
  {
   "cell_type": "code",
   "execution_count": 16,
   "metadata": {},
   "outputs": [
    {
     "name": "stdout",
     "output_type": "stream",
     "text": [
      "4\n"
     ]
    }
   ],
   "source": [
    "a = 2\n",
    "b = plus_two(a)\n",
    "print(b)"
   ]
  },
  {
   "cell_type": "code",
   "execution_count": 17,
   "metadata": {},
   "outputs": [
    {
     "data": {
      "text/plain": [
       "<function __main__.<lambda>(x)>"
      ]
     },
     "execution_count": 17,
     "metadata": {},
     "output_type": "execute_result"
    }
   ],
   "source": [
    "lambda x : x + 2"
   ]
  },
  {
   "cell_type": "code",
   "execution_count": 18,
   "metadata": {},
   "outputs": [],
   "source": [
    "func2 = lambda x : x + 2"
   ]
  },
  {
   "cell_type": "code",
   "execution_count": 19,
   "metadata": {},
   "outputs": [],
   "source": [
    "c = func2(2)"
   ]
  },
  {
   "cell_type": "code",
   "execution_count": 20,
   "metadata": {},
   "outputs": [
    {
     "data": {
      "text/plain": [
       "4"
      ]
     },
     "execution_count": 20,
     "metadata": {},
     "output_type": "execute_result"
    }
   ],
   "source": [
    "c"
   ]
  },
  {
   "cell_type": "markdown",
   "metadata": {},
   "source": [
    "### 4. map"
   ]
  },
  {
   "cell_type": "code",
   "execution_count": 21,
   "metadata": {},
   "outputs": [
    {
     "name": "stdout",
     "output_type": "stream",
     "text": [
      "[1, 2, 3, 4, 5]\n"
     ]
    }
   ],
   "source": [
    "items = [x for x in range(1, 6)]\n",
    "print(items)"
   ]
  },
  {
   "cell_type": "code",
   "execution_count": 22,
   "metadata": {},
   "outputs": [],
   "source": [
    "squared = []\n",
    "for i in items :\n",
    "    squared.append(i*i)"
   ]
  },
  {
   "cell_type": "code",
   "execution_count": 23,
   "metadata": {},
   "outputs": [
    {
     "name": "stdout",
     "output_type": "stream",
     "text": [
      "[1, 4, 9, 16, 25]\n"
     ]
    }
   ],
   "source": [
    "print(squared)"
   ]
  },
  {
   "cell_type": "code",
   "execution_count": 24,
   "metadata": {},
   "outputs": [],
   "source": [
    "squared_map = list(map(lambda x : x**2, items))"
   ]
  },
  {
   "cell_type": "code",
   "execution_count": 25,
   "metadata": {},
   "outputs": [
    {
     "name": "stdout",
     "output_type": "stream",
     "text": [
      "[1, 4, 9, 16, 25]\n"
     ]
    }
   ],
   "source": [
    "print(squared_map)"
   ]
  },
  {
   "cell_type": "markdown",
   "metadata": {},
   "source": [
    "### 5. list comprehension\n",
    "#### 1) for 문\n",
    "0부터 9까지를 순서대로 가지고 있는 리스트를 만드세요"
   ]
  },
  {
   "cell_type": "code",
   "execution_count": 26,
   "metadata": {},
   "outputs": [],
   "source": [
    "list_1 = [0, 1, 2, 3, 4, 5, 6, 7, 8, 9]"
   ]
  },
  {
   "cell_type": "code",
   "execution_count": 27,
   "metadata": {},
   "outputs": [
    {
     "name": "stdout",
     "output_type": "stream",
     "text": [
      "[0, 1, 2, 3, 4, 5, 6, 7, 8, 9]\n"
     ]
    }
   ],
   "source": [
    "list_2 = []\n",
    "for x in range(10) :\n",
    "    list_2.append(x)\n",
    "print(list_2)"
   ]
  },
  {
   "cell_type": "markdown",
   "metadata": {},
   "source": [
    "#### list comprehension를 이용하면 좀 더 쉽게 구현 할 수 있다."
   ]
  },
  {
   "cell_type": "code",
   "execution_count": 28,
   "metadata": {},
   "outputs": [
    {
     "name": "stdout",
     "output_type": "stream",
     "text": [
      "[0, 1, 2, 3, 4, 5, 6, 7, 8, 9]\n"
     ]
    }
   ],
   "source": [
    "lc_1 = [x for x in range(10)]\n",
    "print(lc_1)"
   ]
  },
  {
   "cell_type": "markdown",
   "metadata": {},
   "source": [
    "#### 적용해보기\n",
    "1. 구구단 2단을 list comprehension을 이용하여 구현해보자."
   ]
  },
  {
   "cell_type": "code",
   "execution_count": 29,
   "metadata": {
    "scrolled": true
   },
   "outputs": [
    {
     "name": "stdout",
     "output_type": "stream",
     "text": [
      "[2, 4, 6, 8, 10, 12, 14, 16, 18]\n"
     ]
    }
   ],
   "source": [
    "tables = [2 * x for x in range(1,10)]\n",
    "print(tables)"
   ]
  },
  {
   "cell_type": "markdown",
   "metadata": {},
   "source": [
    "2. 다음의 문장을 분석해보자.  \n",
    "\" 여기는 대덕테크비즈센터TBC 건물 지하 1층 입니다. 우리는 파이썬을 배우고 있습니다.\" 라는 문장을 띄어쓰기별로 분석하려고 한다.  \n",
    "띄어쓰기별로 문장을 나눈 후 각 요소의 길이를 리스트에 저장하라."
   ]
  },
  {
   "cell_type": "code",
   "execution_count": 30,
   "metadata": {},
   "outputs": [],
   "source": [
    "sentence = \"여기는 대덕테크비즈센터TBC 건물 지하 1층 입니다. 우리는 파이썬을 배우고 있습니다.\""
   ]
  },
  {
   "cell_type": "code",
   "execution_count": 31,
   "metadata": {},
   "outputs": [],
   "source": [
    "len_sent = [len(s) for s in sentence.split()]"
   ]
  },
  {
   "cell_type": "code",
   "execution_count": 32,
   "metadata": {
    "scrolled": true
   },
   "outputs": [
    {
     "name": "stdout",
     "output_type": "stream",
     "text": [
      "[3, 11, 2, 2, 2, 4, 3, 4, 3, 5]\n"
     ]
    }
   ],
   "source": [
    "print(len_sent)"
   ]
  },
  {
   "cell_type": "markdown",
   "metadata": {},
   "source": [
    "3. 응용하기  \n",
    "위에서 작성한 func1_with_enu를 list comprehension을 이용하여 작성해보자.  \n",
    "단, 출력은 하지 않고 (대기번호, 사람이름) 리스트만 반환하도록 함수를 수정해보자."
   ]
  },
  {
   "cell_type": "code",
   "execution_count": 33,
   "metadata": {},
   "outputs": [],
   "source": [
    "def func1_with_lc(line) :\n",
    "    new_lines = [(idx+1, val) for idx, val in enumerate(line)]\n",
    "    return new_lines"
   ]
  },
  {
   "cell_type": "code",
   "execution_count": 34,
   "metadata": {},
   "outputs": [],
   "source": [
    "line = func1_with_lc(people)"
   ]
  },
  {
   "cell_type": "code",
   "execution_count": 35,
   "metadata": {
    "scrolled": true
   },
   "outputs": [
    {
     "name": "stdout",
     "output_type": "stream",
     "text": [
      "[(1, '펭수'), (2, '뽀로로'), (3, '뚝딱이'), (4, '텔레토비')]\n"
     ]
    }
   ],
   "source": [
    "print(line)"
   ]
  },
  {
   "cell_type": "markdown",
   "metadata": {},
   "source": [
    "#### 2) for 문 + if 문  \n",
    "10부터 20 사이의 숫자들 중에서 짝수만을 담은 리스트를 만들어보자.  "
   ]
  },
  {
   "cell_type": "code",
   "execution_count": 36,
   "metadata": {},
   "outputs": [
    {
     "name": "stdout",
     "output_type": "stream",
     "text": [
      "[10, 12, 14, 16, 18, 20]\n"
     ]
    }
   ],
   "source": [
    "list_3 = []\n",
    "for x in range(10, 21) :\n",
    "    if x % 2 == 0 :\n",
    "        list_3.append(x)\n",
    "print(list_3)"
   ]
  },
  {
   "cell_type": "code",
   "execution_count": 37,
   "metadata": {},
   "outputs": [],
   "source": [
    "lc_2 = [x for x in range(10, 21) if x % 2 == 0 ]"
   ]
  },
  {
   "cell_type": "code",
   "execution_count": 38,
   "metadata": {},
   "outputs": [
    {
     "data": {
      "text/plain": [
       "[10, 12, 14, 16, 18, 20]"
      ]
     },
     "execution_count": 38,
     "metadata": {},
     "output_type": "execute_result"
    }
   ],
   "source": [
    "lc_2"
   ]
  },
  {
   "cell_type": "markdown",
   "metadata": {},
   "source": [
    "#### 적용해보기\n",
    "1. 1부터 10의 제곱수 중, 50 이하인 수만 리스트에 저장하라."
   ]
  },
  {
   "cell_type": "code",
   "execution_count": 39,
   "metadata": {},
   "outputs": [
    {
     "name": "stdout",
     "output_type": "stream",
     "text": [
      "[1, 4, 9, 16, 25, 36, 49]\n"
     ]
    }
   ],
   "source": [
    "lc_3 = [x**2 for x in range(1,11) if x**2 <= 50]\n",
    "print(lc_3)"
   ]
  },
  {
   "cell_type": "markdown",
   "metadata": {},
   "source": [
    "2. 다음의 문장을 분석해보자.  \n",
    "\" 여기는 대덕테크비즈센터TBC 건물 지하 1층 입니다. 우리는 파이썬을 배우고 있습니다.\" 라는 문장을 띄어쓰기별로 분석하려고 한다.  \n",
    "띄어쓰기별로 문장을 나눈 후 각 요소의 길이가 5미만인 것들만 리스트에 저장하라."
   ]
  },
  {
   "cell_type": "code",
   "execution_count": 40,
   "metadata": {},
   "outputs": [],
   "source": [
    "sentence = \"여기는 대덕테크비즈센터TBC 건물 지하 1층 입니다. 우리는 파이썬을 배우고 있습니다.\""
   ]
  },
  {
   "cell_type": "code",
   "execution_count": 41,
   "metadata": {},
   "outputs": [],
   "source": [
    "len_condition = [s for s in sentence.split() if len(s) < 5]"
   ]
  },
  {
   "cell_type": "code",
   "execution_count": 42,
   "metadata": {},
   "outputs": [
    {
     "data": {
      "text/plain": [
       "['여기는', '건물', '지하', '1층', '입니다.', '우리는', '파이썬을', '배우고']"
      ]
     },
     "execution_count": 42,
     "metadata": {},
     "output_type": "execute_result"
    }
   ],
   "source": [
    "len_condition"
   ]
  },
  {
   "cell_type": "markdown",
   "metadata": {},
   "source": [
    "#### 3) for 문 +  if / else 문\n",
    "1부터 10 사이의 숫자들을 홀수이면 제곱수를, 짝수이면 세제곱수를 저장하라."
   ]
  },
  {
   "cell_type": "code",
   "execution_count": 43,
   "metadata": {},
   "outputs": [],
   "source": [
    "list_4 = []\n",
    "for x in range(1, 11) :\n",
    "    if x % 2 == 1 :\n",
    "        list_4.append(x ** 2)\n",
    "    else :\n",
    "        list_4.append(x ** 3)"
   ]
  },
  {
   "cell_type": "code",
   "execution_count": 44,
   "metadata": {},
   "outputs": [
    {
     "data": {
      "text/plain": [
       "[1, 8, 9, 64, 25, 216, 49, 512, 81, 1000]"
      ]
     },
     "execution_count": 44,
     "metadata": {},
     "output_type": "execute_result"
    }
   ],
   "source": [
    "list_4"
   ]
  },
  {
   "cell_type": "code",
   "execution_count": 45,
   "metadata": {},
   "outputs": [],
   "source": [
    "lc_4 = [x ** 2 if x % 2 == 1 else x ** 3 for x in range(1 , 11)]"
   ]
  },
  {
   "cell_type": "code",
   "execution_count": 46,
   "metadata": {},
   "outputs": [
    {
     "data": {
      "text/plain": [
       "[1, 8, 9, 64, 25, 216, 49, 512, 81, 1000]"
      ]
     },
     "execution_count": 46,
     "metadata": {},
     "output_type": "execute_result"
    }
   ],
   "source": [
    "lc_4"
   ]
  },
  {
   "cell_type": "markdown",
   "metadata": {},
   "source": [
    "#### 적용해보기\n",
    "1. 40 이하의 숫자는 5를 더하고, 40 초과의 숫자는 41로 바꾸어 저장하고 이를 출력하라."
   ]
  },
  {
   "cell_type": "code",
   "execution_count": 47,
   "metadata": {},
   "outputs": [],
   "source": [
    "list_5 = [12, 67, 32, 48, 19, 57, 29, 49]"
   ]
  },
  {
   "cell_type": "code",
   "execution_count": 48,
   "metadata": {},
   "outputs": [
    {
     "name": "stdout",
     "output_type": "stream",
     "text": [
      "[17, 41, 37, 41, 24, 41, 34, 41]\n"
     ]
    }
   ],
   "source": [
    "lc_5 = [x+5 if x <= 40 else 41 for x in list_5]\n",
    "print(lc_5)"
   ]
  },
  {
   "cell_type": "markdown",
   "metadata": {},
   "source": [
    "2. 컷트라인이 60점일때, 사람이름과 통과여부를 리스트로 담아서 출력하라.  \n",
    "이름과 통과여부는 튜플로 묶어있는 자료이다."
   ]
  },
  {
   "cell_type": "code",
   "execution_count": 49,
   "metadata": {},
   "outputs": [],
   "source": [
    "students = {\"보라돌이\" : 61,\n",
    "            \"뚜비\" : 35,\n",
    "            \"나나\" : 78,\n",
    "            \"뽀\" : 88}"
   ]
  },
  {
   "cell_type": "code",
   "execution_count": 50,
   "metadata": {},
   "outputs": [],
   "source": [
    "result = [(name, True) if score >= 60 else (name, False) for name, score in students.items()]"
   ]
  },
  {
   "cell_type": "code",
   "execution_count": 51,
   "metadata": {},
   "outputs": [
    {
     "data": {
      "text/plain": [
       "[('보라돌이', True), ('뚜비', False), ('나나', True), ('뽀', True)]"
      ]
     },
     "execution_count": 51,
     "metadata": {},
     "output_type": "execute_result"
    }
   ],
   "source": [
    "result"
   ]
  },
  {
   "cell_type": "code",
   "execution_count": null,
   "metadata": {},
   "outputs": [],
   "source": []
  }
 ],
 "metadata": {
  "kernelspec": {
   "display_name": "Python 3",
   "language": "python",
   "name": "python3"
  },
  "language_info": {
   "codemirror_mode": {
    "name": "ipython",
    "version": 3
   },
   "file_extension": ".py",
   "mimetype": "text/x-python",
   "name": "python",
   "nbconvert_exporter": "python",
   "pygments_lexer": "ipython3",
   "version": "3.7.3"
  }
 },
 "nbformat": 4,
 "nbformat_minor": 4
}
